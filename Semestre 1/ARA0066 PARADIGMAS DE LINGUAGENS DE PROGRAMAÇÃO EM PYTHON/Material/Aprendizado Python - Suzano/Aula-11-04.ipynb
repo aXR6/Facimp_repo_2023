{
 "cells": [
  {
   "cell_type": "code",
   "execution_count": 2,
   "metadata": {},
   "outputs": [],
   "source": [
    "def positivo(x):\n",
    "    if x > 0 :\n",
    "        return str(x) + \" é positivo\"\n",
    "    else :\n",
    "        return str(x) + \" não é positivo\""
   ]
  },
  {
   "cell_type": "code",
   "execution_count": 6,
   "id": "0c28dabb",
   "metadata": {},
   "outputs": [
    {
     "data": {
      "text/plain": [
       "'0não é positivo'"
      ]
     },
     "execution_count": 6,
     "metadata": {},
     "output_type": "execute_result"
    }
   ],
   "source": [
    "positivo(0)"
   ]
  },
  {
   "cell_type": "code",
   "execution_count": 38,
   "id": "7dfb7b29",
   "metadata": {},
   "outputs": [],
   "source": [
    "def PosNegZero(X):\n",
    "    if X > 0 :\n",
    "        return str(X) + \" é positivo\"\n",
    "    elif X < 0:\n",
    "        return str(X) + \" é negativo\"\n",
    "    else:\n",
    "        return str(X) + \" é zero\""
   ]
  },
  {
   "cell_type": "code",
   "execution_count": 44,
   "id": "a63ceb91",
   "metadata": {},
   "outputs": [
    {
     "data": {
      "text/plain": [
       "'0 é zero'"
      ]
     },
     "execution_count": 44,
     "metadata": {},
     "output_type": "execute_result"
    }
   ],
   "source": [
    "PosNegZero(-0)"
   ]
  },
  {
   "cell_type": "code",
   "execution_count": 130,
   "id": "6fc8e5fe",
   "metadata": {},
   "outputs": [
    {
     "data": {
      "text/plain": [
       "21"
      ]
     },
     "execution_count": 130,
     "metadata": {},
     "output_type": "execute_result"
    }
   ],
   "source": [
    "import datetime\n",
    "\n",
    "datetime.datetime.now().hour"
   ]
  }
 ],
 "metadata": {
  "kernelspec": {
   "display_name": "Python 3",
   "language": "python",
   "name": "python3"
  },
  "language_info": {
   "codemirror_mode": {
    "name": "ipython",
    "version": 3
   },
   "file_extension": ".py",
   "mimetype": "text/x-python",
   "name": "python",
   "nbconvert_exporter": "python",
   "pygments_lexer": "ipython3",
   "version": "3.9.2"
  }
 },
 "nbformat": 4,
 "nbformat_minor": 5
}
