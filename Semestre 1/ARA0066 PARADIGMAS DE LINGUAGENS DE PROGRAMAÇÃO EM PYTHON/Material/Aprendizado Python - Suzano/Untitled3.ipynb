{
 "cells": [
  {
   "cell_type": "code",
   "execution_count": 6,
   "id": "fbcfcf9b",
   "metadata": {},
   "outputs": [
    {
     "name": "stdout",
     "output_type": "stream",
     "text": [
      "Qual é o valor da corrida?23\n",
      "Aguarde um momento, o valor pode abaixar\n"
     ]
    }
   ],
   "source": [
    "valor_passagem = 4.30\n",
    "valor_corrida = input('Qual é o valor da corrida?')\n",
    "\n",
    "if float(valor_corrida) <= valor_passagem * 5:\n",
    "    print('Pague a corrida')\n",
    "else:\n",
    "    if float(valor_corrida) <= valor_passagem * 6:\n",
    "        print('Aguarde um momento, o valor pode abaixar')\n",
    "    else:\n",
    "        print('Pegue o ônibus')"
   ]
  },
  {
   "cell_type": "code",
   "execution_count": 9,
   "id": "00fa6221",
   "metadata": {},
   "outputs": [
    {
     "name": "stdout",
     "output_type": "stream",
     "text": [
      "Qual é o valor da corrida?100\n",
      "Pegue o ônibus\n"
     ]
    }
   ],
   "source": [
    "valor_passagem = 4.30\n",
    "valor_corrida = input('Qual é o valor da corrida?')\n",
    "\n",
    "if float(valor_corrida) <= valor_passagem * 5:\n",
    "    print('Pague a corrida')\n",
    "elif float(valor_corrida) <= valor_passagem * 6:\n",
    "    print('Aguarde um momento, o valor pode abaixar')\n",
    "else:\n",
    "    print('Pegue o ônibus')"
   ]
  },
  {
   "cell_type": "code",
   "execution_count": null,
   "id": "ff2edc08",
   "metadata": {},
   "outputs": [],
   "source": []
  }
 ],
 "metadata": {
  "kernelspec": {
   "display_name": "Python 3 (ipykernel)",
   "language": "python",
   "name": "python3"
  },
  "language_info": {
   "codemirror_mode": {
    "name": "ipython",
    "version": 3
   },
   "file_extension": ".py",
   "mimetype": "text/x-python",
   "name": "python",
   "nbconvert_exporter": "python",
   "pygments_lexer": "ipython3",
   "version": "3.10.5"
  }
 },
 "nbformat": 4,
 "nbformat_minor": 5
}
